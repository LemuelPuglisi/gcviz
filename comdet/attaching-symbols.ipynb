{
 "cells": [
  {
   "cell_type": "markdown",
   "source": [
    "# Attaching HUGO symbols"
   ],
   "metadata": {}
  },
  {
   "cell_type": "code",
   "execution_count": 4,
   "source": [
    "import networkx as nx\n",
    "import networkx.algorithms.community as cm\n",
    "from modules import cytoscape as cs \n",
    "\n",
    "G = nx.read_weighted_edgelist('../datasets/gene_edges.tsv', delimiter=\"\\t\")\n",
    "genes = G.nodes()"
   ],
   "outputs": [],
   "metadata": {}
  },
  {
   "cell_type": "code",
   "execution_count": 12,
   "source": [
    "genes = [ gene for gene in genes ]\n",
    "len(genes)"
   ],
   "outputs": [
    {
     "output_type": "execute_result",
     "data": {
      "text/plain": [
       "3498"
      ]
     },
     "metadata": {},
     "execution_count": 12
    }
   ],
   "metadata": {}
  },
  {
   "cell_type": "markdown",
   "source": [
    "It is necessary to fetch from NCBI database the name of the each gene and attach this information to the partitions.\n",
    "This will be done using the e-util esummary from NCBI."
   ],
   "metadata": {}
  },
  {
   "cell_type": "code",
   "execution_count": 30,
   "source": [
    "import requests\n",
    "\n",
    "from xml.etree import ElementTree\n",
    "\n",
    "def get_genes_names(geneIDs):\n",
    "    \"\"\"\n",
    "    Get gene informations from the NCBI database using \n",
    "    esummary e-util. \n",
    "    \"\"\"\n",
    "    xml = fetch_from_ncbi(geneIDs)\n",
    "    tree = ElementTree.fromstring(xml)\n",
    "    return extract_genes_name(tree)\n",
    "       \n",
    "\n",
    "def fetch_from_ncbi(geneIDs):\n",
    "    \"\"\"\n",
    "    Make a call to the NCBI esummary endpoint and retrieve\n",
    "    the XML response\n",
    "    \"\"\"\n",
    "    headers = {'Content-Type': 'application/xml'}\n",
    "    base_url = 'https://eutils.ncbi.nlm.nih.gov/entrez/eutils/esummary.fcgi?db=gene&'\n",
    "    gene_url = base_url + 'id='\n",
    "    for gene in geneIDs: \n",
    "        gene_url += f'{gene},'\n",
    "    response = requests.get(gene_url, headers=headers)\n",
    "    return response.content\n",
    "    \n",
    "    \n",
    "def extract_genes_name(tree):\n",
    "    \"\"\"\n",
    "    Parse the XML response to retrieve informations \n",
    "    \"\"\"\n",
    "    gene_map = {}\n",
    "    dss = tree.find('DocumentSummarySet')\n",
    "    summaries = dss.findall('DocumentSummary')\n",
    "    for summary in summaries:\n",
    "        uid = summary.get('uid')\n",
    "        hugo = summary.find('Name').text\n",
    "        gene_map[uid] = hugo\n",
    "    return gene_map"
   ],
   "outputs": [],
   "metadata": {}
  },
  {
   "cell_type": "markdown",
   "source": [
    "Retrieve all the genes names using batch requests of 100 ids each"
   ],
   "metadata": {}
  },
  {
   "cell_type": "code",
   "execution_count": 36,
   "source": [
    "a = {'x': 1}\n",
    "b = {'y': 2}\n",
    "{**a, **b}"
   ],
   "outputs": [
    {
     "output_type": "execute_result",
     "data": {
      "text/plain": [
       "{'x': 1, 'y': 2}"
      ]
     },
     "metadata": {},
     "execution_count": 36
    }
   ],
   "metadata": {}
  },
  {
   "cell_type": "code",
   "execution_count": 58,
   "source": [
    "import math\n",
    "\n",
    "gene_map = {}\n",
    "number_of_genes = len(genes)\n",
    "batchsize = 100\n",
    "genes_pointer = 0\n",
    "total_iterations = math.ceil(number_of_genes / batchsize)\n",
    "\n",
    "for current_iteration in range(total_iterations):\n",
    "    \n",
    "    increment = batchsize\n",
    "    if (current_iteration + 1 == total_iterations):\n",
    "        increment = number_of_genes - genes_pointer\n",
    "    \n",
    "    batchend = genes_pointer + increment\n",
    "    batch = genes[genes_pointer:batchend]\n",
    "    batch_gene_map = get_genes_names(batch)\n",
    "    gene_map = { **gene_map, **batch_gene_map }\n",
    "    genes_pointer += increment\n",
    "    "
   ],
   "outputs": [],
   "metadata": {}
  },
  {
   "cell_type": "code",
   "execution_count": null,
   "source": [
    "gene_map"
   ],
   "outputs": [],
   "metadata": {}
  },
  {
   "cell_type": "code",
   "execution_count": 62,
   "source": [
    "import pickle\n",
    "\n",
    "f = open('hugo-map/gene-id-symbol-map.pickle', 'wb')\n",
    "pickle.dump(gene_map, f)\n",
    "f.close()"
   ],
   "outputs": [],
   "metadata": {}
  },
  {
   "cell_type": "markdown",
   "source": [
    "Read the serialization (just to make sure it works)"
   ],
   "metadata": {}
  },
  {
   "cell_type": "code",
   "execution_count": 83,
   "source": [
    "f = open('hugo-map/gene-id-symbol-map.pickle', 'rb')\n",
    "gene_map = pickle.load(f)\n",
    "f.close()"
   ],
   "outputs": [],
   "metadata": {}
  },
  {
   "cell_type": "markdown",
   "source": [
    "For each partition, for each cluster, add the name of the nodes."
   ],
   "metadata": {}
  },
  {
   "cell_type": "code",
   "execution_count": 95,
   "source": [
    "from os import listdir\n",
    "from os.path import isfile, join\n",
    "\n",
    "partition_path = '../partitions/backup/'\n",
    "\n",
    "partitions_files = [join(partition_path, f) for f in listdir(partition_path) if isfile(join(partition_path, f))]"
   ],
   "outputs": [],
   "metadata": {}
  },
  {
   "cell_type": "code",
   "execution_count": 99,
   "source": [
    "import json\n",
    "import os\n",
    "\n",
    "for filepath in partitions_files:\n",
    "    with open(filepath, 'r') as f:\n",
    "        print(f'analyzing {filepath}')\n",
    "        content = f.read()\n",
    "        partition = json.loads(content)\n",
    "        print('partition size: ', len(partition))\n",
    "        \n",
    "        for cluster in partition:\n",
    "            for data in cluster:\n",
    "                uid = data.get('data').get('id')\n",
    "                uid = str(uid)\n",
    "                if '-' not in uid:\n",
    "                    name = gene_map.get(uid)\n",
    "                    data['data']['symbol'] = name\n",
    "        content_with_names = json.dumps(partition)\n",
    "        filename = os.path.split(filepath)[-1]\n",
    "        with open(f'../partitions/{filename}', 'w+') as nf:\n",
    "            nf.write(content_with_names)"
   ],
   "outputs": [
    {
     "output_type": "stream",
     "name": "stdout",
     "text": [
      "analyzing ../partitions/backup/lvn.json\n",
      "partition size:  72\n",
      "analyzing ../partitions/backup/sc.json\n",
      "partition size:  63\n",
      "analyzing ../partitions/backup/kl.json\n",
      "partition size:  128\n",
      "analyzing ../partitions/backup/gn.json\n",
      "partition size:  69\n",
      "analyzing ../partitions/backup/fluidc.json\n",
      "partition size:  63\n",
      "analyzing ../partitions/backup/cnm.json\n",
      "partition size:  92\n",
      "analyzing ../partitions/backup/n2v.json\n",
      "partition size:  60\n"
     ]
    }
   ],
   "metadata": {}
  }
 ],
 "metadata": {
  "kernelspec": {
   "display_name": "Python 3",
   "language": "python",
   "name": "python3"
  },
  "language_info": {
   "codemirror_mode": {
    "name": "ipython",
    "version": 3
   },
   "file_extension": ".py",
   "mimetype": "text/x-python",
   "name": "python",
   "nbconvert_exporter": "python",
   "pygments_lexer": "ipython3",
   "version": "3.8.5"
  }
 },
 "nbformat": 4,
 "nbformat_minor": 4
}